{
 "cells": [
  {
   "cell_type": "markdown",
   "metadata": {},
   "source": [
    "# Gestión de Archivos"
   ]
  },
  {
   "cell_type": "markdown",
   "metadata": {},
   "source": [
    "## Clase **File**\n",
    "- La clase File sirve para representar ficheros o directorios en el sistema de ficheros de la plataforma específica.\n",
    "- Mediante esta clase pueden abstraerse las particularidades de cada sistema de ficheros y proporcionar los métodos necesarios para obtener información sobre los mismos."
   ]
  },
  {
   "cell_type": "code",
   "execution_count": 6,
   "metadata": {
    "vscode": {
     "languageId": "java"
    }
   },
   "outputs": [
    {
     "name": "stdout",
     "output_type": "stream",
     "text": [
      "pathSeparator: ;\n",
      "separator: \\\n",
      "separatorChar: \\\n",
      "canRead(): true\n",
      "canWrite(): true\n",
      "exists(): true\n",
      "getName(): prueba.txt\n",
      "getParent(): assets\n",
      "isDirectory(): false\n",
      "isFile(): true\n",
      "length(): 11\n"
     ]
    }
   ],
   "source": [
    "var f = new File(\"assets\\\\prueba.txt\");\n",
    "System.out.println(\"pathSeparator: \"+File.pathSeparator);\n",
    "System.out.println(\"separator: \" + File.separator);\n",
    "System.out.println(\"separatorChar: \"+File.separatorChar);\n",
    "System.out.println(\"canRead(): \" + f.canRead());\n",
    "System.out.println(\"canWrite(): \" + f.canWrite());\n",
    "System.out.println(\"exists(): \" + f.exists());\n",
    "System.out.println(\"getName(): \" + f.getName());\n",
    "System.out.println(\"getParent(): \" + f.getParent());\n",
    "System.out.println(\"isDirectory(): \" + f.isDirectory());\n",
    "System.out.println(\"isFile(): \" + f.isFile());\n",
    "System.out.println(\"length(): \" + f.length());"
   ]
  },
  {
   "cell_type": "markdown",
   "metadata": {},
   "source": [
    "## Escribir archivo de texto"
   ]
  },
  {
   "cell_type": "code",
   "execution_count": 8,
   "metadata": {
    "vscode": {
     "languageId": "java"
    }
   },
   "outputs": [],
   "source": [
    "int[][] numeros = { { 1, 2, 3, 4, 5},\n",
    "                    { 6, 7, 8, 9, 10},\n",
    "                    {11, 12, 13, 14, 15},\n",
    "                    {16, 17, 18, 19, 20},\n",
    "                    {21, 22, 23, 24, 25}};\n",
    "var archivo = \"Numeros.txt\";\n",
    "var salida = new PrintWriter(archivo);\n",
    "for (int i=0; i< numeros.length; i++) {\n",
    "    for (int j=0; j< numeros[i].length; j++) {\n",
    "        salida.print(numeros[i][j] + \",\");\n",
    "    }\n",
    "    salida.println(\"\");\n",
    "}\n",
    "salida.close();"
   ]
  },
  {
   "cell_type": "markdown",
   "metadata": {},
   "source": [
    "## Leer archivo de texto"
   ]
  },
  {
   "cell_type": "code",
   "execution_count": 10,
   "metadata": {
    "vscode": {
     "languageId": "java"
    }
   },
   "outputs": [
    {
     "name": "stdout",
     "output_type": "stream",
     "text": [
      "Números del archivo\n",
      "1\t2\t3\t4\t5\t\n",
      "6\t7\t8\t9\t10\t\n",
      "11\t12\t13\t14\t15\t\n",
      "16\t17\t18\t19\t20\t\n",
      "21\t22\t23\t24\t25\t\n"
     ]
    }
   ],
   "source": [
    "String nombre = \"Numeros.txt\";\n",
    "var archivo = new File(nombre);\n",
    "if (archivo.exists()) {\n",
    "    var lector = new Scanner(archivo);\n",
    "    System.out.println(\"Números del archivo\");\n",
    "    while (lector.hasNext()) {\n",
    "        var numeros = new StringTokenizer(lector.next(),\",\");\n",
    "        while (numeros.hasMoreTokens()) {\n",
    "            System.out.print(numeros.nextToken() + \"\\t\");\n",
    "        }\n",
    "        System.out.println(\"\");\n",
    "    }\n",
    "    lector.close();\n",
    "} else {\n",
    "    System.out.println(\"¡El fichero no existe!\");\n",
    "}"
   ]
  }
 ],
 "metadata": {
  "kernelspec": {
   "display_name": "Java",
   "language": "java",
   "name": "java"
  },
  "language_info": {
   "codemirror_mode": "java",
   "file_extension": ".jshell",
   "mimetype": "text/x-java-source",
   "name": "Java",
   "pygments_lexer": "java",
   "version": "17.0.1+12"
  },
  "orig_nbformat": 4,
  "vscode": {
   "interpreter": {
    "hash": "aff35f7389d7e3d9eefdab8d6ee9cbeea8954c45d329bbe62fa514d288e678ef"
   }
  }
 },
 "nbformat": 4,
 "nbformat_minor": 2
}
