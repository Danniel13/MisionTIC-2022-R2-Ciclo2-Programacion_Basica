{
 "cells": [
  {
   "cell_type": "markdown",
   "metadata": {},
   "source": [
    "# La clase **System**"
   ]
  },
  {
   "cell_type": "markdown",
   "metadata": {},
   "source": [
    "- Representa al sistema donde se esta ejecutando el programa Java. Por lo tanto se la puede utilizar para interactuar con el entorno en el que corre, y utilizar las propiedades del entorno, sistema operativo, usuario y demás.\n",
    "- Puede accederse a la salida estándar del proceso, a la salida de error del proceso y a la entrada estándar del proceso mediante, `System.out`, `System.err`, `System.in` respectivamente, de modo de poder interactuar con el sistema operativo. También permite obtener el tiempo en milisegundos llamando al sistema operativo para lograr este objetivo.\n",
    "- Otra cosa muy útil de la clase System es que permite cargar librerías externas en una línea de ejecución con el método load (), mediante esta operación se logra cargar librerías en tiempo de corrida del programa y suma así funcionalidades a nuestros programas.\n",
    "- Posee atributos y métodos de uso general, y son todos estáticos, es decir atributos y métodos de clase. No es una clase instanciable.\n",
    "\n",
    "## Atributos\n",
    "```Java\n",
    "static PrintStream err;\n",
    "static InputStream in;\n",
    "static PrintStream out;\n",
    "```\n",
    "\n",
    "## Métodos\n",
    "```Java\n",
    "static void arraycopy( Object,int,Object,int,int )\n",
    "static long currentTimeMillis()\n",
    "static void exit( int )\n",
    "static void gc()\n",
    "static Properties getProperties()\n",
    "static String getPropertie( String )\n",
    "static String getPropertie( String,String )\n",
    "static SecurityManager getSecurityManager()\n",
    "static native int identityHashCode( Object )\n",
    "static void load( String )\n",
    "static void loadLibrary( String )\n",
    "static void runFinalization()\n",
    "static void runFinalizersOnExit( boolean )\n",
    "static void setErr( PrintStream )\n",
    "static void setIn( InputStream )\n",
    "static void setOut( PrintStream )\n",
    "static void setProperties( Properties )\n",
    "static void setSecurityManager( SecurityManager )\n",
    "\n",
    "static String getProperty( String key )\n",
    "static String getProperty( String clave,String def )\n",
    "```"
   ]
  }
 ],
 "metadata": {
  "kernelspec": {
   "display_name": "Java",
   "language": "java",
   "name": "java"
  },
  "language_info": {
   "name": "java"
  },
  "orig_nbformat": 4
 },
 "nbformat": 4,
 "nbformat_minor": 2
}
