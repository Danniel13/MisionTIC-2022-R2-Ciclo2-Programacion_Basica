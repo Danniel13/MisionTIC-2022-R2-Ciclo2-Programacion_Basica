{
 "cells": [
  {
   "cell_type": "markdown",
   "metadata": {},
   "source": [
    "# La clase **String** "
   ]
  },
  {
   "cell_type": "markdown",
   "metadata": {},
   "source": [
    "[Strings - Java Tutorial](https://docs.oracle.com/javase/tutorial/java/data/strings.html)\n",
    "\n",
    "- Un String en Java representa una **cadena de caracteres no modificable**.\n",
    "- Todos los literales de la forma \"**cualquier texto**\", es decir, literales entre comillas\n",
    "dobles, que aparecen en un programa java se implementan como **objetos** de la clase String.\n",
    "- Se puede crear un String de varias formas, entre ellas:\n",
    "1. Utilizando una cadena de caracteres entre comillas:"
   ]
  },
  {
   "cell_type": "code",
   "execution_count": null,
   "metadata": {},
   "outputs": [],
   "source": [
    "var cadena1 = \"abcdef\";\n",
    "System.out.println(cadena1);"
   ]
  },
  {
   "cell_type": "markdown",
   "metadata": {},
   "source": [
    "2. Utilizando operador de concatenación + con dos o más objetos String:"
   ]
  },
  {
   "cell_type": "code",
   "execution_count": null,
   "metadata": {},
   "outputs": [],
   "source": [
    "var cadena2 = cadena1 + \"ghij\";\n",
    "System.out.println(cadena2);"
   ]
  },
  {
   "cell_type": "code",
   "execution_count": null,
   "metadata": {},
   "outputs": [],
   "source": [
    "var cadena3 = cadena1 + cadena2 + \"klm\";\n",
    "System.out.println(cadena3);"
   ]
  },
  {
   "cell_type": "markdown",
   "metadata": {},
   "source": [
    "## Métodos útiles de la clase String\n",
    "![Métodos String](assets/string.png)"
   ]
  },
  {
   "cell_type": "code",
   "execution_count": null,
   "metadata": {},
   "outputs": [],
   "source": [
    "var nombre = \"César Augusto\";\n",
    "var apellido = \"Díaz Arriaga\";\n",
    "\n",
    "// Concatenar cadenas\n",
    "var nombreCompleto = nombre + \" \" + apellido;\n",
    "System.out.println(nombreCompleto);"
   ]
  },
  {
   "cell_type": "code",
   "execution_count": null,
   "metadata": {},
   "outputs": [],
   "source": [
    "System.out.println(nombreCompleto.length());"
   ]
  },
  {
   "cell_type": "markdown",
   "metadata": {},
   "source": [
    "![Indexando cadenas](https://docs.oracle.com/javase/tutorial/figures/java/objects-charAt.gif)"
   ]
  },
  {
   "cell_type": "code",
   "execution_count": null,
   "metadata": {},
   "outputs": [],
   "source": [
    "var posicion = nombreCompleto.indexOf(\"j\");\n",
    "System.out.println(posicion);"
   ]
  },
  {
   "cell_type": "code",
   "execution_count": null,
   "metadata": {},
   "outputs": [],
   "source": [
    "var posicion = nombreCompleto.indexOf(' ');\n",
    "System.out.println(posicion);"
   ]
  },
  {
   "cell_type": "code",
   "execution_count": null,
   "metadata": {},
   "outputs": [],
   "source": [
    "System.out.println(nombreCompleto.charAt(posicion + 1))"
   ]
  },
  {
   "cell_type": "code",
   "execution_count": null,
   "metadata": {},
   "outputs": [],
   "source": [
    "System.out.println(nombreCompleto.charAt(26))"
   ]
  },
  {
   "cell_type": "code",
   "execution_count": null,
   "metadata": {},
   "outputs": [],
   "source": [
    "System.out.println(nombreCompleto.charAt(-1))"
   ]
  },
  {
   "cell_type": "markdown",
   "metadata": {},
   "source": [
    "![substring](https://docs.oracle.com/javase/tutorial/figures/java/objects-substring.gif)"
   ]
  },
  {
   "cell_type": "code",
   "execution_count": null,
   "metadata": {},
   "outputs": [],
   "source": [
    "var posicion2 = nombreCompleto.indexOf(' ', posicion + 1);\n",
    "var subcadena = nombreCompleto.substring(posicion + 1, posicion2);\n",
    "System.out.println('\\'' + subcadena.toUpperCase() + \"'\");"
   ]
  },
  {
   "cell_type": "code",
   "execution_count": null,
   "metadata": {},
   "outputs": [],
   "source": [
    "var palabras = nombreCompleto.split(\" \");\n",
    "for (var palabra : palabras) {\n",
    "    System.out.println(palabra);\n",
    "}"
   ]
  },
  {
   "cell_type": "code",
   "execution_count": null,
   "metadata": {},
   "outputs": [],
   "source": [
    "System.out.println(nombreCompleto.replaceAll(\"a\", \"@\"))"
   ]
  },
  {
   "cell_type": "code",
   "execution_count": null,
   "metadata": {},
   "outputs": [],
   "source": [
    "var letras = nombreCompleto.toCharArray();\n",
    "for (var letra : letras) {\n",
    "    System.out.println(letra);\n",
    "}"
   ]
  },
  {
   "cell_type": "markdown",
   "metadata": {},
   "source": [
    "## Formateo de cadenas"
   ]
  },
  {
   "cell_type": "code",
   "execution_count": null,
   "metadata": {},
   "outputs": [],
   "source": [
    "var floatVar = 110.5;\n",
    "var intVar = 222443;\n",
    "var stringVar = \"Hola\";\n",
    "var fs = String.format(\"El valor de la variable \" +\n",
    "                        \"decimal es %.2f, mientras \" +\n",
    "                        \"el valor de la \" + \n",
    "                        \"variable entera es %d, \" +\n",
    "                        \"y la cadena es %s\",\n",
    "                        floatVar, intVar, stringVar);\n",
    "System.out.println(fs);"
   ]
  },
  {
   "cell_type": "code",
   "execution_count": null,
   "metadata": {},
   "outputs": [],
   "source": [
    "System.out.printf(\"El valor de la variable \" +\n",
    "                    \"decimal es %.2f, mientras \" +\n",
    "                    \"el valor de la \" + \n",
    "                    \"variable entera es %d, \" +\n",
    "                    \"y la cadena es %s %n\",\n",
    "                    floatVar, intVar, stringVar);"
   ]
  },
  {
   "cell_type": "markdown",
   "metadata": {},
   "source": [
    "## Comparando cadenas\n",
    "```Java\n",
    "int compareTo(String anotherString)\n",
    "boolean endsWith(String suffix)\n",
    "boolean startsWith(String prefix)\n",
    "boolean equals(Object anObject)\n",
    "boolean matches(String regex)\n",
    "```"
   ]
  },
  {
   "cell_type": "code",
   "execution_count": null,
   "metadata": {},
   "outputs": [],
   "source": [
    "System.out.println(\"Hola\".compareTo(\"hola\"));\n",
    "System.out.println(\"Hola\".compareTo(\"Hola\"));\n",
    "System.out.println(\"hola\".compareTo(\"Hola\"));\n",
    "\n",
    "System.out.println(\"Hola\".compareTo(\"HoLa\"));"
   ]
  },
  {
   "cell_type": "code",
   "execution_count": null,
   "metadata": {},
   "outputs": [],
   "source": [
    "System.out.println(\"Hola\".equals(\"Hola\"));\n",
    "System.out.println(\"Hola\".equals(\"HoLa\"));\n",
    "System.out.println(\"Hola\".equalsIgnoreCase(\"HoLa\"));"
   ]
  },
  {
   "cell_type": "markdown",
   "metadata": {},
   "source": [
    "# La clase **StringBuilder** "
   ]
  },
  {
   "cell_type": "markdown",
   "metadata": {},
   "source": [
    "[StringBuilder - Java Tutorial](https://docs.oracle.com/javase/tutorial/java/data/buffers.html)\n",
    "\n",
    "Los objetos StringBuilder son como objetos String, exceptuando que **pueden ser modificados**."
   ]
  },
  {
   "cell_type": "code",
   "execution_count": null,
   "metadata": {},
   "outputs": [],
   "source": [
    "var palindrome = \"Dot saw I was Tod\";\n",
    "var len = palindrome.length();\n",
    "var tempCharArray = palindrome.toCharArray();\n",
    "var charArray = new char[len];\n",
    "\n",
    "// reverse array of chars\n",
    "for (int j = 0; j < len; j++) {\n",
    "    charArray[j] = tempCharArray[len - 1 - j];\n",
    "}\n",
    "\n",
    "var reversePalindrome = new String(charArray);\n",
    "System.out.println(reversePalindrome);"
   ]
  },
  {
   "cell_type": "code",
   "execution_count": null,
   "metadata": {},
   "outputs": [],
   "source": [
    "var palindrome = \"Dot saw I was Tod\";\n",
    "var sb = new StringBuilder(palindrome);\n",
    "sb.reverse();  // reverse it\n",
    "System.out.println(sb);"
   ]
  }
 ],
 "metadata": {
  "kernelspec": {
   "display_name": "Java",
   "language": "java",
   "name": "java"
  },
  "language_info": {
   "codemirror_mode": "java",
   "file_extension": ".jshell",
   "mimetype": "text/x-java-source",
   "name": "java",
   "pygments_lexer": "java",
   "version": "17.0.1+12"
  },
  "orig_nbformat": 4
 },
 "nbformat": 4,
 "nbformat_minor": 2
}
