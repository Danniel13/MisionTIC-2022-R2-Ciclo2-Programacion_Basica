{
 "cells": [
  {
   "cell_type": "markdown",
   "metadata": {},
   "source": [
    "# La clase **Math**"
   ]
  },
  {
   "cell_type": "markdown",
   "metadata": {},
   "source": [
    "[Math class - Java Tutorial](https://docs.oracle.com/javase/tutorial/java/data/beyondmath.html)\n",
    "\n",
    "Esta clase tiene una colección de métodos que incluyen las funciones matemáticas y trigonométricas que comúnmente usamos.\n",
    "Nos ofrece numerosos y valiosos métodos y constantes _estáticos_, que\n",
    "podemos utilizar tan sólo anteponiendo el nombre de la clase, (`Math.metodo()` ó\n",
    "`Math.CONSTANTE`).\n",
    "\n",
    "![Constantes](assets/math_constantes.png)\n",
    "\n",
    "![Métodos](assets/math_metodos.png)\n",
    "\n",
    "Se puede consultar la lista completa en la documentación oficial del [API](https://docs.oracle.com/en/java/javase/11/docs/api/java.base/java/lang/Math.html) de Java\n"
   ]
  },
  {
   "cell_type": "code",
   "execution_count": null,
   "metadata": {},
   "outputs": [],
   "source": [
    "System.out.println(\"2 raised to the power 3 is \" + Math.pow(2, 3));\n",
    "System.out.println(\"Exponent squared is \" + Math.exp(2));\n",
    "System.out.println(\"The square root of 16 is \" + Math.sqrt(16));\n",
    "System.out.println(\"The cube root of 27 is \" + Math.cbrt(27));"
   ]
  },
  {
   "cell_type": "code",
   "execution_count": null,
   "metadata": {},
   "outputs": [],
   "source": [
    "System.out.println(\"log of 2 is \" + Math.log(2));\n",
    "System.out.println(\"log to the base 10 of 100 is \" + Math.log10(100));"
   ]
  },
  {
   "cell_type": "code",
   "execution_count": null,
   "metadata": {},
   "outputs": [],
   "source": [
    "System.out.println(\"tan(45) =\" + Math.tan(Math.toRadians(45)));\n",
    "System.out.println(\"sin(45) =\" + Math.sin(Math.toRadians(45)));\n",
    "System.out.println(\"cos(45) =\" + Math.cos(Math.toRadians(45)));"
   ]
  },
  {
   "cell_type": "code",
   "execution_count": null,
   "metadata": {},
   "outputs": [],
   "source": [
    "System.out.println(\"Absolute value of -2: \" + Math.abs(-2));\n",
    "System.out.println(\"Absolute value of 2: \" + Math.abs(2));"
   ]
  },
  {
   "cell_type": "code",
   "execution_count": null,
   "metadata": {},
   "outputs": [],
   "source": [
    "System.out.println(\"Maximum between 2.04 and 2.05: \" + Math.max(2.04, 2.05));\n",
    "System.out.println(\"Minimum between 2 and 23: \" + Math.min(2, 23));"
   ]
  }
 ],
 "metadata": {
  "kernelspec": {
   "display_name": "Java",
   "language": "java",
   "name": "java"
  },
  "language_info": {
   "codemirror_mode": "java",
   "file_extension": ".jshell",
   "mimetype": "text/x-java-source",
   "name": "java",
   "pygments_lexer": "java",
   "version": "17.0.1+12"
  },
  "orig_nbformat": 4
 },
 "nbformat": 4,
 "nbformat_minor": 2
}
